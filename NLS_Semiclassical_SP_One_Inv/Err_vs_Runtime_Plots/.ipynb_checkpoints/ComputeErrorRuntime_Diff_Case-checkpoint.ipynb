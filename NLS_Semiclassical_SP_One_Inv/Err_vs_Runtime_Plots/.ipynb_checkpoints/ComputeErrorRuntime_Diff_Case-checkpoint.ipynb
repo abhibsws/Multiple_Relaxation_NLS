{
 "cells": [
  {
   "cell_type": "markdown",
   "id": "5de2610c",
   "metadata": {},
   "source": [
    "#### Consider the NLS eqution in the semiclassical regime\n",
    "\\begin{align}\n",
    "    i \\epsilon u^{\\epsilon}_t + \\frac{\\epsilon^2}{2}u^{\\epsilon}_{xx} + |u^{\\epsilon}|^2\\ u^{\\epsilon} & = 0, \\text{on} \\ [-8,8] \\times (0,T] \\;, \\\\\n",
    "    %u^{\\epsilon}(x,0) & = A_{0}(x)e^{\\frac{i S_{0}(x)}{\\epsilon}} \\;,\\\\\n",
    "    u^{\\epsilon}(-8,t) & =u^{\\epsilon}(8,t) \\;,\n",
    "\\end{align}\n",
    "with two initial conditons: \n",
    " \\begin{align} \n",
    "    u^{\\epsilon}(x,0) & = e^{-x^2}\\;,\n",
    " \\end{align}\n",
    "and \n",
    " \\begin{align} \n",
    "    u^{\\epsilon}(x,0) & = e^{-x^2} e^{i\\frac{1}{\\epsilon(e^x+e^{-x})}}.\n",
    " \\end{align}\n",
    " #### This code computes and saves the data for the solution convergence and cost measurement plots for both initial conditions with two values of epsilon at a final time. This data is used to create figures 4 and 5 in the manuscript."
   ]
  },
  {
   "cell_type": "code",
   "execution_count": 12,
   "id": "5d4737bb",
   "metadata": {},
   "outputs": [],
   "source": [
    "# For the convergence plot and error vs. runtime plots we just use the top 2 by 2 cases for both the inital data.\n",
    "\"\"\"\n",
    "(a) Zero phase initla data \n",
    "Eps = [0.2,0.1], Ns = [L*32*2,L*32*4] where L = xL-xR = 16 and T = 0.8.\n",
    "\n",
    "(a) Nonero phase initla data \n",
    "Eps = [0.2,0.1], Ns = [L*32*2,L*32*4] where L = xL-xR = 16 and T = 0.5.\n",
    "\"\"\";\n",
    "# So for each inital data there will be four figures. This code generates the data for those plots."
   ]
  },
  {
   "cell_type": "code",
   "execution_count": 2,
   "id": "0d7f1432",
   "metadata": {},
   "outputs": [],
   "source": [
    "import numpy as np\n",
    "import pandas as pd\n",
    "import matplotlib.pyplot as plt\n",
    "from Diff_Time_Integrators import Compute_Sol_ImEx, Compute_Sol_ImEx_Relaxation, sol_nl_part, \\\n",
    "sol_l_part, Op_Split_Exact_Solve, ImEx_schemes, Op_Sp_Coeff, adaptive_step_local_err, Compute_Sol_ImEx_Relaxation_Adp"
   ]
  },
  {
   "cell_type": "markdown",
   "id": "13a900a1",
   "metadata": {},
   "source": [
    "#### Choose the case here"
   ]
  },
  {
   "cell_type": "code",
   "execution_count": 3,
   "id": "d8393471",
   "metadata": {},
   "outputs": [],
   "source": [
    "case = 'strong_cubic_foc_nonzero_phase'; "
   ]
  },
  {
   "cell_type": "code",
   "execution_count": 4,
   "id": "863c1e80",
   "metadata": {},
   "outputs": [],
   "source": [
    "def nonlin_f(z,ep,case):\n",
    "    if case == 'strong_cubic_foc_zero_phase':\n",
    "        y = -z \n",
    "    elif case == 'strong_cubic_foc_nonzero_phase':\n",
    "        y = -z \n",
    "    return y\n",
    "\n",
    "def A0_fun(x,case):\n",
    "    if case == 'strong_cubic_foc_zero_phase':\n",
    "        y = np.exp(-x**2)\n",
    "    elif case == 'strong_cubic_foc_nonzero_phase':\n",
    "        y = np.exp(-x**2)\n",
    "    return y\n",
    "\n",
    "def S0_fun(x,ep,case):\n",
    "    if case == 'strong_cubic_foc_zero_phase':\n",
    "        y = x*0\n",
    "    elif case == 'strong_cubic_foc_nonzero_phase':\n",
    "        y = 1/(np.exp(x)+np.exp(-x))\n",
    "    return y\n",
    "\n",
    "def initial_cond(x,ep,case):\n",
    "    ucomp = A0_fun(x,case)*np.exp(1j*S0_fun(x,ep,case)/ep)\n",
    "    return np.concatenate((ucomp.real,ucomp.imag)).astype('float64')\n",
    "\n",
    "# Stiff part of the right hand side function of the ODE system in spatial doamin\n",
    "def rhsNlsStiff(u,N,xi,ep):\n",
    "    ucomp = u[:N]+ 1j *u[N:]\n",
    "    uhat = np.fft.fft(ucomp)\n",
    "    duhat = -1j*(ep/2)*xi**2*uhat\n",
    "    rhs_comp = np.fft.ifft(duhat)\n",
    "    dudt = np.concatenate((rhs_comp.real,rhs_comp.imag)).astype('float64')\n",
    "    return dudt\n",
    "\n",
    "# Non stiff part of right hand side function of the ODE system in spatial doamin\n",
    "def rhsNlsNonStiff(u,N,ep,case):\n",
    "    ucomp = u[:N]+ (1j) *u[N:]\n",
    "    rhs_comp= -(1j/ep)*nonlin_f(np.abs(ucomp)**2,ep,case)*ucomp\n",
    "    dudt = np.concatenate((rhs_comp.real,rhs_comp.imag)).astype('float64')\n",
    "    return dudt\n",
    "\n",
    "def position_density(u,N):  # n(x,t)\n",
    "    V = u[:N]; W = u[N:]\n",
    "    return V**2+W**2\n",
    "\n",
    "def current_density(u,N):  # J(x,t)\n",
    "    V = u[:N]; W = u[N:]\n",
    "    return np.multiply(V[:-1],W[1:])-np.multiply(V[1:],W[:-1])\n",
    "\n",
    "# For multi-relaxation\n",
    "def rgam(gamma,u,N,dx,ep,case,inc,inv,E_old):\n",
    "    uprop = u + np.dot(gamma,inc)  \n",
    "    if inv == 1:\n",
    "        E_prop = np.array([eta1(uprop,N,dx)])\n",
    "    elif inv == 2:\n",
    "        E_prop = np.array([eta1(uprop,N,dx),eta2(uprop,N,dx,ep,case)])\n",
    "    return E_prop-E_old\n",
    "\n",
    "def eta1(u,N,dx):  # Invariant: first quantity\n",
    "    V = u[:N]; W = u[N:]\n",
    "    return dx*np.sum(V**2+W**2)\n",
    "\n",
    "# def eta2(u,N,dx,ep,case):   # Invariant: second quantity\n",
    "#     V = u[:N]; W = u[N:]\n",
    "#     z = V[:-1]**2+W[:-1]**2\n",
    "#     return np.sum((ep**2/2)*(np.diff(V)**2+np.diff(W)**2)/dx + dx*nonlin_f(z,ep,case)*z)\n",
    "\n",
    "def eta2(u,N,dx,ep,case):  # Current density\n",
    "    V = u[:N]; W = u[N:]\n",
    "    return dx*np.sum(np.multiply(V[:-1],W[1:])-np.multiply(V[1:],W[:-1]))"
   ]
  },
  {
   "cell_type": "code",
   "execution_count": 5,
   "id": "3a5bc95f",
   "metadata": {},
   "outputs": [],
   "source": [
    "dts = np.empty((2,10))\n",
    "dts[0,:] = 10**np.linspace(-2,-3,10); \n",
    "dts[1,:] = 10**np.linspace(-2.5,-4,10);  # this one take long time to compute"
   ]
  },
  {
   "cell_type": "code",
   "execution_count": 6,
   "id": "5f92a306",
   "metadata": {},
   "outputs": [],
   "source": [
    "if case == 'strong_cubic_foc_zero_phase':\n",
    "    xL = -8; xR =8; L = xR-xL; t0 = 0;  inv = 1; \n",
    "    Eps = [0.2,0.1]; Ns = np.array([L*32*2,L*32*4]); T = 0.8; \n",
    "elif case == 'strong_cubic_foc_nonzero_phase':\n",
    "    xL = -8; xR =8; L = xR-xL; t0 = 0;  inv = 1;\n",
    "    Eps = [0.2,0.1]; Ns = np.array([L*32*2,L*32*4]); T = 0.5; "
   ]
  },
  {
   "cell_type": "code",
   "execution_count": 7,
   "id": "bf6f7aba",
   "metadata": {},
   "outputs": [],
   "source": [
    "# ImEx time-stepping methods\n",
    "method_names = ['ARK32','ARK43']; Stage = [4,6]; Order = [3,4]; em_Or = [2,3]; Sch_No = [3,4]\n",
    "# Operator splitting methods\n",
    "OS_method_names = ['Op_Sp1','Op_Sp2','Op_Sp4']; OS_Stage = [1,2,5]; OS_Order = [1,2,4]; OS_Sch_No = [0,1,2]"
   ]
  },
  {
   "cell_type": "code",
   "execution_count": 8,
   "id": "02516800",
   "metadata": {
    "scrolled": false
   },
   "outputs": [
    {
     "name": "stdout",
     "output_type": "stream",
     "text": [
      "0.2\n",
      "0.01\n",
      "0.2\n",
      "0.007742636826811269\n",
      "0.2\n",
      "0.005994842503189409\n",
      "0.2\n",
      "0.004641588833612777\n",
      "0.2\n",
      "0.003593813663804626\n",
      "0.2\n",
      "0.0027825594022071257\n",
      "0.2\n",
      "0.0021544346900318843\n",
      "0.2\n",
      "0.0016681005372000592\n",
      "0.2\n",
      "0.001291549665014884\n",
      "0.2\n",
      "0.001\n",
      "0.1\n",
      "0.0031622776601683794\n",
      "0.1\n",
      "0.0021544346900318843\n",
      "0.1\n",
      "0.0014677992676220691\n",
      "0.1\n",
      "0.001\n",
      "0.1\n",
      "0.0006812920690579615\n",
      "0.1\n",
      "0.0004641588833612782\n",
      "0.1\n",
      "0.00031622776601683794\n",
      "0.1\n",
      "0.00021544346900318845\n",
      "0.1\n",
      "0.00014677992676220705\n",
      "0.1\n",
      "0.0001\n",
      "CPU times: user 7min 11s, sys: 11min 45s, total: 18min 57s\n",
      "Wall time: 20min 33s\n"
     ]
    }
   ],
   "source": [
    "%%time\n",
    "Sol_b_ARK43 = np.empty((len(Eps),len(dts[0,:]),), dtype=object);\n",
    "Sol_r_ARK43 = np.empty((len(Eps),len(dts[0,:]),), dtype=object);\n",
    "Sol_OpSp2 = np.empty((len(Eps),len(dts[0,:]),), dtype=object);\n",
    "Sol_OpSp4 = np.empty((len(Eps),len(dts[0,:]),), dtype=object);\n",
    "\n",
    "RT_b_ARK43 = np.empty((len(Eps),len(dts[0,:]),), dtype=object);\n",
    "RT_r_ARK43 = np.empty((len(Eps),len(dts[0,:]),), dtype=object);\n",
    "RT_OpSp2 = np.empty((len(Eps),len(dts[0,:]),), dtype=object);\n",
    "RT_OpSp4 = np.empty((len(Eps),len(dts[0,:]),), dtype=object);\n",
    "\n",
    "ImEx_idx1 = 1; OS_idx1 = 1; OS_idx2 = 2; em_or = em_Or[ImEx_idx1]; tol = 1e-8;\n",
    "rkim, rkex, c, b, bhat = ImEx_schemes(Stage[ImEx_idx1],Order[ImEx_idx1],em_Or[ImEx_idx1],Sch_No[ImEx_idx1])\n",
    "OpSp2_a, OpSp2_b = Op_Sp_Coeff(OS_Stage[OS_idx1],OS_Order[OS_idx1],OS_Sch_No[OS_idx1])\n",
    "OpSp4_a, OpSp4_b = Op_Sp_Coeff(OS_Stage[OS_idx2],OS_Order[OS_idx2],OS_Sch_No[OS_idx2])\n",
    "\n",
    "for i in range(len(Eps)):\n",
    "    ep = Eps[i]; N = Ns[i];\n",
    "    for j in range(len(dts[0,:])):\n",
    "        dt = dts[i,j]; f_stiff = rhsNlsStiff; f_non_stiff = rhsNlsNonStiff; IC = initial_cond;\n",
    "        print(ep); print(dt); \n",
    "        \n",
    "        # ARK baseline\n",
    "        b_req_t,b_tt,b_uu = Compute_Sol_ImEx(f_stiff,f_non_stiff,IC,ep,case,xL,xR,N,t0,T,method_names[ImEx_idx1],rkim,rkex,b,c,dt)\n",
    "        \n",
    "        # ARK relaxation\n",
    "        r_req_t,r_tt,r_uu,G,IF_1,IF_5,IF_else = Compute_Sol_ImEx_Relaxation(f_stiff,f_non_stiff,IC,ep,case,xL,xR,N,t0,T, \\\n",
    "                                    method_names[ImEx_idx1],rkim,rkex,b,bhat,c,inv,eta1,eta2,rgam,dt)\n",
    "        \n",
    "         # Strang splitting\n",
    "        sp2_req_t, sp2_tt, sp2_uu = Op_Split_Exact_Solve(nonlin_f,sol_nl_part,sol_l_part,IC,ep,case,xL,xR,N,t0,T, \\\n",
    "                                              OS_method_names[OS_idx1],OpSp2_a,OpSp2_b,dt)\n",
    "        \n",
    "        # 4th order splitting\n",
    "        sp4_req_t, sp4_tt, sp4_uu = Op_Split_Exact_Solve(nonlin_f,sol_nl_part,sol_l_part,IC,ep,case,xL,xR,N,t0,T, \\\n",
    "                                              OS_method_names[OS_idx2],OpSp4_a,OpSp4_b,dt)\n",
    " \n",
    "        # storing data\n",
    "        RT_b_ARK43[i,j] = b_req_t; Sol_b_ARK43[i,j] = b_uu[-1]; \n",
    "        RT_r_ARK43[i,j] = r_req_t; Sol_r_ARK43[i,j] = r_uu[-1];\n",
    "        RT_OpSp2[i,j] = sp2_req_t; Sol_OpSp2[i,j] = sp2_uu[-1];\n",
    "        RT_OpSp4[i,j] = sp4_req_t; Sol_OpSp4[i,j] = sp4_uu[-1];"
   ]
  },
  {
   "cell_type": "code",
   "execution_count": 9,
   "id": "8fefcc7a",
   "metadata": {},
   "outputs": [],
   "source": [
    "import os\n",
    "path = './Data/'\n",
    "if not os.path.exists(path):\n",
    "   os.makedirs(path)"
   ]
  },
  {
   "cell_type": "markdown",
   "id": "1f0b1feb",
   "metadata": {},
   "source": [
    "## Saving Data"
   ]
  },
  {
   "cell_type": "code",
   "execution_count": 10,
   "id": "456003ed",
   "metadata": {},
   "outputs": [],
   "source": [
    "# saving data and information         \n",
    "np.save(\"./Data/%s_NumSol_B_ARK43.npy\"%(case), Sol_b_ARK43)\n",
    "np.save(\"./Data/%s_NumSol_R_ARK43.npy\"%(case), Sol_r_ARK43)\n",
    "np.save(\"./Data/%s_NumSol_OpSp2.npy\"%(case), Sol_OpSp2)\n",
    "np.save(\"./Data/%s_NumSol_OpSp4.npy\"%(case), Sol_OpSp4)\n",
    "\n",
    "# saving data and information         \n",
    "np.save(\"./Data/%s_RunTime_B_ARK43.npy\"%(case), RT_b_ARK43)\n",
    "np.save(\"./Data/%s_RunTime_R_ARK43.npy\"%(case), RT_r_ARK43)\n",
    "np.save(\"./Data/%s_RunTime_OpSp2.npy\"%(case), RT_OpSp2)\n",
    "np.save(\"./Data/%s_RunTime_OpSp4.npy\"%(case), RT_OpSp4)"
   ]
  },
  {
   "cell_type": "code",
   "execution_count": null,
   "id": "2fb3c2cc",
   "metadata": {},
   "outputs": [],
   "source": []
  }
 ],
 "metadata": {
  "kernelspec": {
   "display_name": "Python 3 (ipykernel)",
   "language": "python",
   "name": "python3"
  },
  "language_info": {
   "codemirror_mode": {
    "name": "ipython",
    "version": 3
   },
   "file_extension": ".py",
   "mimetype": "text/x-python",
   "name": "python",
   "nbconvert_exporter": "python",
   "pygments_lexer": "ipython3",
   "version": "3.8.13"
  }
 },
 "nbformat": 4,
 "nbformat_minor": 5
}
