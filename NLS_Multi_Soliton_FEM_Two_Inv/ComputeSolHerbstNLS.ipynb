{
 "cells": [
  {
   "cell_type": "markdown",
   "id": "962ffd8d",
   "metadata": {},
   "source": [
    "#### This code solves the nonlinear Schrödinger equation with natural boundary conditions: $u_{x}(x_L,t) = u_{x}(x_R,t) = 0$ for all $t$, using a FEM semi-discretization  in space and different time integrators in time:\n",
    "\\begin{align}\\label{Schrodinger_eqn}\n",
    "    i u_t + u_{xx} + \\beta |u|^2 u & = 0, \\text{on} \\ [x_L,x_R] \\times (0,T], \\\\\n",
    "    u(x,0) = \\textrm{sech}(x).\n",
    "\\end{align}\n",
    "\n",
    "#### This equation has multi-soliton solutions for different values of $\\beta$. This code generates data used to produce Figures 7, 8, and 9, as well as Table 5 in the manuscript.\n"
   ]
  },
  {
   "cell_type": "markdown",
   "id": "f986cd9b",
   "metadata": {},
   "source": [
    "#### Required libraries"
   ]
  },
  {
   "cell_type": "code",
   "execution_count": 1,
   "id": "41d8a1fd",
   "metadata": {},
   "outputs": [],
   "source": [
    "# Required libraries \n",
    "import numpy as np\n",
    "import pandas as pd\n",
    "import matplotlib.pyplot as plt\n",
    "from scipy.optimize import fsolve\n",
    "from IPython.display import clear_output, display, Math\n",
    "from TimeIntegrators import ImEx_schemes, Op_Sp_Coeff"
   ]
  },
  {
   "cell_type": "markdown",
   "id": "92f6873f",
   "metadata": {},
   "source": [
    "#### Choose the case: 2-, or  3- solitons "
   ]
  },
  {
   "cell_type": "code",
   "execution_count": 2,
   "id": "5447bbe7",
   "metadata": {},
   "outputs": [],
   "source": [
    "# Choose a particular case\n",
    "#q = 8; sol = 2; inv = 2\n",
    "q = 18; sol = 3; inv = 2\n",
    "\n",
    "# time-stepping methods\n",
    "Mthds_B = ['ImEx3','ImEx4']; Mthds_MR = ['ImEx3(MR)','ImEx4(MR)'];\n",
    "Mthds_MR_EC = ['ImEx3(MR)(EC)','ImEx4(MR)(EC)']; Mthds_SP = ['S2','AK4']\n",
    "Stage = [4,6]; Order = [3,4]; em_Or = [2,3]; Sch_No = [3,4]\n",
    "SP_Stage = [2,5]; SP_Order = [2,4]; SP_Sch_No = [1,2];  \n",
    "\n",
    "# Different casese\n",
    "if q == 8 and sol == 2 and inv == 2: \n",
    "    xL = -35; xR = 35; L = xR-xL; m1 = 16; N =m1*L; t0 = 0; DT = [0.01,0.05]; SP_DT = [0.05,0.05]; T = 5\n",
    "elif q == 18 and sol == 3 and inv == 2: \n",
    "    xL = -35; xR = 35; L = xR-xL; m1 = 32; N =m1*L; t0 = 0; DT = [0.01,0.01]; SP_DT = [0.01,0.01] ; T = 5"
   ]
  },
  {
   "cell_type": "markdown",
   "id": "f6abb189",
   "metadata": {},
   "source": [
    "#### FEM semi-discretized matrices"
   ]
  },
  {
   "cell_type": "code",
   "execution_count": 3,
   "id": "29cc0280",
   "metadata": {},
   "outputs": [],
   "source": [
    "dx = 1./m1; m = int((xR-xL)/dx); x = np.linspace(xL,xR,m); dx = x[1] - x[0]\n",
    "\n",
    "# The matrix I_tilde\n",
    "It = np.eye(2*m)\n",
    "It[0][0] = 0.5; It[1][1] = 0.5\n",
    "It[-1][-1] = 0.5; It[-2][-2] = 0.5\n",
    "Itinv = np.diag(1./np.diag(It))\n",
    "\n",
    "# The matrix S\n",
    "A = np.array([[0, 1.], [-1., 0]])\n",
    "S = np.zeros((2*m,2*m))\n",
    "for j in range(1,m-1):\n",
    "    S[2*j:2*j+2,2*j:2*j+2] = -2*A[:,:]\n",
    "    S[2*j:2*j+2,2*j+2:2*j+4] = A[:,:]\n",
    "    S[2*j:2*j+2,2*j-2:2*j] = A[:,:]\n",
    "    \n",
    "S[:2,:2] = -A[:,:]  \n",
    "S[-2:,-2:] = -A[:,:]\n",
    "\n",
    "S[:2,2:4] = A\n",
    "S[-2:,-4:-2] = A\n",
    "ItinvS = np.dot(Itinv,S) # I_tilde^(-1)*S\n",
    "\n",
    "I = np.eye(2*m)\n",
    "M = -1./dx**2 * ItinvS"
   ]
  },
  {
   "cell_type": "markdown",
   "id": "03f4afbc",
   "metadata": {},
   "source": [
    "#### Required functions"
   ]
  },
  {
   "cell_type": "code",
   "execution_count": 4,
   "id": "0483cdb9",
   "metadata": {},
   "outputs": [],
   "source": [
    "# The stiff part of the right hand side of the system of ODEs: du/dt = rhs\n",
    "def rhs_stiff(U,dx):  \n",
    "    ret = -1./dx**2 * np.dot(ItinvS,U) \n",
    "    return ret\n",
    "\n",
    " # The non-stiff part of the right hand side of the system of ODEs: du/dt = rhs\n",
    "I1 = np.eye(m)\n",
    "I2 = np.array([[1,1.],[1,1]])\n",
    "A1 = np.kron(I1,A)\n",
    "A2 = np.kron(I1,I2)\n",
    "\n",
    "def rhs_non_stiff(U,q): \n",
    "    ret = -q*np.multiply(np.dot(A1,U),np.dot(A2,np.square(U)))\n",
    "    return ret\n",
    "\n",
    "def eta1(U,dx):  # Invariant: first quantity\n",
    "    V = U[::2]\n",
    "    W = U[1::2]\n",
    "    return dx*np.sum(V**2+W**2)\n",
    "\n",
    "def eta2(U,dx,q):   # Invariant: second quantity\n",
    "    V = U[::2]\n",
    "    W = U[1::2]\n",
    "    return np.sum((np.diff(V)**2+np.diff(W)**2)/dx - 0.5*q*dx*(V[:-1]**2+W[:-1]**2)**2)\n",
    "\n",
    "def rgam(gamma,u,inc,E_old,inv,q):\n",
    "    uprop = u + np.dot(gamma,inc)  # u propsed\n",
    "    uprop.shape\n",
    "    if inv == 1:\n",
    "        E_prop = np.array([eta1(uprop,dx)])\n",
    "    elif inv == 2:\n",
    "        E_prop = np.array([eta1(uprop,dx),eta2(uprop,dx,q)])\n",
    "    return E_prop-E_old\n",
    "\n",
    "def NLS_True_Sol(t,x,q):\n",
    "    if q == 1:\n",
    "        a = 1; c = 3; x0 = -10; theta0 = np.pi/4 \n",
    "        ut = np.zeros(len(x))\n",
    "        for i, xp in enumerate(x):\n",
    "            ut[i] = np.sqrt(2)*np.exp(1j*((3/2)*(xp-c*t-x0)+theta0))*np.exp(1j*(a+c**2/4)*t) \\\n",
    "            /np.cosh(xp-c*t-x0)  \n",
    "    elif q == 2:\n",
    "        ut = np.exp(1j*t)/np.cosh(x)\n",
    "    elif q == 8:\n",
    "        sechx = 1./np.cosh(x)\n",
    "        ut = np.exp(1j*t)*sechx*( 1+(3/4)*sechx**2*(np.exp(8*1j*t)-1) )/( 1-(3/4)*sechx**4*np.sin(4*t)**2 )\n",
    "    elif q == 18:\n",
    "        ut = (2*(3*np.exp(t*25*1j)*np.exp(x) + 15*np.exp(t*9*1j)*np.exp(9*x) + 48*np.exp(t*25*1j)*np.exp(7*x) + 48*np.exp(t*25*1j)*np.exp(11*x) + 24*np.exp(t*33*1j)*np.exp(3*x) + 54*np.exp(t*33*1j)*np.exp(5*x) + 3*np.exp(t*25*1j)*np.exp(17*x) + 54*np.exp(t*33*1j)*np.exp(13*x) + 24*np.exp(t*33*1j)*np.exp(15*x) + 135*np.exp(t*41*1j)*np.exp(9*x) + 30*np.exp(t*49*1j)*np.exp(5*x) + 120*np.exp(t*49*1j)*np.exp(7*x) + 120*np.exp(t*49*1j)*np.exp(11*x) + 30*np.exp(t*49*1j)*np.exp(13*x) + 60*np.exp(t*57*1j)*np.exp(9*x)))/(3*(np.exp(t*24*1j) + 10*np.exp(6*x) + 10*np.exp(12*x) + 45*np.exp(t*8*1j)*np.exp(8*x) + 45*np.exp(t*8*1j)*np.exp(10*x) + 18*np.exp(t*16*1j)*np.exp(4*x) + 9*np.exp(t*24*1j)*np.exp(2*x) + 18*np.exp(t*16*1j)*np.exp(14*x) + 64*np.exp(t*24*1j)*np.exp(6*x) + 36*np.exp(t*24*1j)*np.exp(8*x) + 36*np.exp(t*24*1j)*np.exp(10*x) + 64*np.exp(t*24*1j)*np.exp(12*x) + 18*np.exp(t*32*1j)*np.exp(4*x) + 9*np.exp(t*24*1j)*np.exp(16*x) + np.exp(t*24*1j)*np.exp(18*x) + 18*np.exp(t*32*1j)*np.exp(14*x) + 45*np.exp(t*40*1j)*np.exp(8*x) + 45*np.exp(t*40*1j)*np.exp(10*x) + 10*np.exp(t*48*1j)*np.exp(6*x) + 10*np.exp(t*48*1j)*np.exp(12*x)))  \n",
    "    \n",
    "    V = ut.real; W = ut.imag\n",
    "    u = np.zeros((2*len(x)))\n",
    "    u[::2] = V; u[1::2] = W  \n",
    "    return u\n",
    "\n",
    "def local_err_indicator(u1,u2,tol):\n",
    "    m = len(u1); \n",
    "    vec = (u1-u2)/(tol*(1+np.max(np.array([np.abs(u1),np.abs(u2)]),0)))\n",
    "    ep_n = np.sqrt(sum(vec**2)/m)\n",
    "    return ep_n"
   ]
  },
  {
   "cell_type": "markdown",
   "id": "58f278d9",
   "metadata": {},
   "source": [
    "#### ImEx methods"
   ]
  },
  {
   "cell_type": "code",
   "execution_count": 5,
   "id": "13daf72a",
   "metadata": {},
   "outputs": [],
   "source": [
    "def ImEx_Sol(Mthdname,rkim, rkex, c, b, bhat, dt, f_stiff, f_non_stiff, T, u0, t0):    \n",
    "    tt = np.zeros(1); t = t0; tt[0] = t # time   \n",
    "    uu = np.zeros((1,np.size(u0))); uu[0,:] = u0.copy() # solution\n",
    "    s = len(rkim); Rim = np.zeros((s,len(u0))); Rex = np.zeros((s,len(u0))); steps = 0\n",
    "\n",
    "    while t < T and not np.isclose(t, T):\n",
    "        clear_output(wait=True)\n",
    "        if t + dt > T:\n",
    "            dt = T - t\n",
    "        for i in range(s):\n",
    "            rhs = uu[-1].copy()\n",
    "            if i>0:\n",
    "                for j in range(i):\n",
    "                    rhs += dt*(rkim[i,j]*Rim[j,:] + rkex[i,j]*Rex[j,:])\n",
    "\n",
    "            Mat = I - dt*rkim[i,i]*M\n",
    "            g_j = np.linalg.solve(Mat, rhs)\n",
    "            Rim[i,:] = f_stiff(g_j,dx)\n",
    "            Rex[i,:] = f_non_stiff(g_j,q)\n",
    "\n",
    "        inc = dt*sum([ b[j]*(Rim[j]+Rex[j]) for j in range(s)]) \n",
    "        unew = uu[-1]+inc; t+= dt; tt = np.append(tt, t); steps += 1\n",
    "        uu = np.append(uu, np.reshape(unew.copy(), (1,len(unew))), axis=0)  \n",
    "        print(\"Method=FEM-%s: Step number = %d (time = %1.5f)\"%(Mthdname,steps,tt[-1]))\n",
    "        \n",
    "    return tt, uu"
   ]
  },
  {
   "cell_type": "code",
   "execution_count": 6,
   "id": "3d38ecdd",
   "metadata": {},
   "outputs": [],
   "source": [
    "def MR_ImEx_Sol(Mthdname, rkim, rkex, c, b, bhat, dt, f_stiff, f_non_stiff, T, u0, t0, inv):\n",
    "    tt = np.zeros(1); t = t0; tt[0] = t;  # time \n",
    "    uu = np.zeros((1,np.size(u0))); uu[0,:] = u0.copy() # solution\n",
    "    s = len(rkim); Rim = np.zeros((s,len(u0))); Rex = np.zeros((s,len(u0))) \n",
    "    gamma0 = np.zeros(inv); G = np.zeros((1,np.size(gamma0))); G[0,:] = gamma0.copy()\n",
    "    steps = 0; no_ier_five = 0; no_ier_one = 0; no_ier_else = 0; tot_steps = 0; \n",
    "   \n",
    "    while t < T and not np.isclose(t, T):\n",
    "        clear_output(wait=True)\n",
    "        tot_steps += 1\n",
    "        if t + dt > T:\n",
    "            dt = T - t\n",
    "        for i in range(s):\n",
    "            rhs = uu[-1].copy()\n",
    "            if i>0:\n",
    "                for j in range(i):\n",
    "                    rhs += dt*(rkim[i,j]*Rim[j,:] + rkex[i,j]*Rex[j,:] )\n",
    "            \n",
    "            Mat = I - dt*rkim[i,i]*M\n",
    "            g_j = np.linalg.solve(Mat, rhs)\n",
    "            Rim[i,:] = f_stiff(g_j,dx)\n",
    "            Rex[i,:] = f_non_stiff(g_j,q)\n",
    "        \n",
    "        inc1 = dt*sum([ b[i]*(Rim[i]+Rex[i]) for i in range(s)])  \n",
    "        inc2 = dt*sum([ bhat[i]*(Rim[i]+Rex[i]) for i in range(s)])  \n",
    "        unew = uu[-1]+inc1; \n",
    "        \n",
    "        if inv == 1:\n",
    "            inc = np.array([inc1]); E_old = np.array([eta1(uu[-1],dx)])\n",
    "        elif inv == 2:\n",
    "            inc = np.array([inc1,inc2]); E_old = np.array([eta1(uu[-1],dx), eta2(uu[-1],dx,q)])\n",
    "           \n",
    "        # fsolve\n",
    "        ga_fsolve, info, ier, mesg = fsolve(rgam,gamma0,args=(unew,inc,E_old,inv,q),full_output=True,xtol = 1e-14)\n",
    "        gamma = ga_fsolve; gamma0 = ga_fsolve\n",
    "\n",
    "        steps += 1\n",
    "        if ier == 1:\n",
    "            no_ier_one += 1\n",
    "        elif ier == 5:\n",
    "            no_ier_five += 1\n",
    "        else:\n",
    "            no_ier_else += 1\n",
    "\n",
    "        # relaxation solution\n",
    "        unew = unew + np.dot(gamma,inc); t+=(1+sum(gamma))*dt \n",
    "        tt = np.append(tt, t); uu = np.append(uu, np.reshape(unew.copy(), (1,len(unew))), axis=0)  \n",
    "        G = np.append(G, np.reshape(gamma.copy(), (1,len(gamma))), axis=0) \n",
    "               \n",
    "        if inv == 1:\n",
    "            print(\"FEM-%s: At step no = %d (time = %1.5f), ier = %d and γ1 = %1.6f \\n\"%(Mthdname,steps,tt[-1],ier,sum(gamma)))\n",
    "        elif inv == 2:\n",
    "            print(\"FEM-%s: At step no = %d (time = %1.5f), ier = %d and γ1+γ2  = %1.6f \\n\"%(Mthdname,steps,tt[-1],ier,sum(gamma)))\n",
    "         \n",
    "    return tot_steps, tt, uu, G, no_ier_one, no_ier_five, no_ier_else"
   ]
  },
  {
   "cell_type": "markdown",
   "id": "caa1f094",
   "metadata": {},
   "source": [
    "#### ImEx methods with relaxation and varialbe time steps"
   ]
  },
  {
   "cell_type": "code",
   "execution_count": 7,
   "id": "5d3f4b95",
   "metadata": {},
   "outputs": [],
   "source": [
    "def MR_ImEx_Var_Steps_Sol(Mthdname, rkim, rkex, c, b, bhat, dt, f_stiff, f_non_stiff, T, u0, t0, inv, alpha, em_or, tol):\n",
    "    tt = np.zeros(1); t = t0; tt[0] = t;  # time \n",
    "    uu = np.zeros((1,np.size(u0))); uu[0,:] = u0.copy() # solution\n",
    "    s = len(rkim); Rim = np.zeros((s,len(u0))); Rex = np.zeros((s,len(u0))) \n",
    "    gamma0 = np.zeros(inv); G = np.zeros((1,np.size(gamma0))); G[0,:] = gamma0.copy()\n",
    "    steps = 0; no_ier_five = 0; no_ier_one = 0; no_ier_else = 0\n",
    "    \n",
    "    dt0 = dt; dts = np.zeros(1); dts[0] = dt; tot_steps = 0; \n",
    "    \n",
    "\n",
    "    while t < T and not np.isclose(t, T):\n",
    "        clear_output(wait=True)\n",
    "        tot_steps += 1\n",
    "        if t + dt > T:\n",
    "            dt = T - t\n",
    "        for i in range(s):\n",
    "            rhs = uu[-1].copy()\n",
    "            if i>0:\n",
    "                for j in range(i):\n",
    "                    rhs += dt*(rkim[i,j]*Rim[j,:] + rkex[i,j]*Rex[j,:] )\n",
    "            \n",
    "            Mat = I - dt*rkim[i,i]*M\n",
    "            g_j = np.linalg.solve(Mat, rhs)\n",
    "            Rim[i,:] = f_stiff(g_j,dx)\n",
    "            Rex[i,:] = f_non_stiff(g_j,q)\n",
    "        \n",
    "        inc1 = dt*sum([ b[i]*(Rim[i]+Rex[i]) for i in range(s)])  \n",
    "        inc2 = dt*sum([ bhat[i]*(Rim[i]+Rex[i]) for i in range(s)])  \n",
    "        unew = uu[-1]+inc1; unew_em = uu[-1]+inc2;\n",
    "        \n",
    "        ep_n = local_err_indicator(unew,unew_em,tol)\n",
    "        \n",
    "        print('ep_n=%1.4f \\n'%ep_n)\n",
    "        if ep_n <= 1:\n",
    "            if inv == 1:\n",
    "                inc = np.array([inc1]); E_old = np.array([eta1(uu[-1],dx)])\n",
    "            elif inv == 2:\n",
    "                inc = np.array([inc1,inc2]); E_old = np.array([eta1(uu[-1],dx), eta2(uu[-1],dx,q)])\n",
    "\n",
    "            # fsolve\n",
    "            ga_fsolve, info, ier, mesg = fsolve(rgam,gamma0,args=(unew,inc,E_old,inv,q),full_output=True,xtol = 1e-14)\n",
    "            gamma = ga_fsolve; gamma0 = ga_fsolve\n",
    "            Err = np.linalg.norm(info['fvec'])\n",
    "            if Err <= 1e-12:\n",
    "                steps += 1\n",
    "                if ier == 1:\n",
    "                    no_ier_one += 1\n",
    "                elif ier == 5:\n",
    "                    no_ier_five += 1\n",
    "                else:\n",
    "                    no_ier_else += 1\n",
    "\n",
    "                dts = np.append(dts,dt)\n",
    "                # relaxation solution\n",
    "                unew = unew + np.dot(gamma,inc); t+=(1+sum(gamma))*dt \n",
    "                tt = np.append(tt, t); uu = np.append(uu, np.reshape(unew.copy(), (1,len(unew))), axis=0)  \n",
    "                G = np.append(G, np.reshape(gamma.copy(), (1,len(gamma))), axis=0) \n",
    "                dt = alpha*np.power((1/ep_n),1/(em_or+1))*dt # update time step for next time step\n",
    "                print('Time step for the next iteration = %1.4f \\n'%dt)\n",
    "                if inv == 1:\n",
    "                    print(\"FEM-%s: At step no = %d (time = %1.5f), ier = %d and γ1 = %1.6f \\n\"%(Mthdname,steps,tt[-1],ier,sum(gamma)))\n",
    "                elif inv == 2:\n",
    "                    print(\"FEM-%s: At step no = %d (time = %1.5f), ier = %d and γ1+γ2  = %1.6f \\n\"%(Mthdname,steps,tt[-1],ier,sum(gamma)))\n",
    "            else:\n",
    "                dt = dt/2\n",
    "                print('fsolve failed. Ad-hoc proposed dt/2 = %1.4f \\n'%dt)\n",
    "        else: \n",
    "            dt = alpha*np.power((1/ep_n),1/(em_or+1))*dt # local error control fails, reject the step and recompute with controller predicted step\n",
    "            print('Modified dt by step size control = %1.4f \\n'%dt)\n",
    "\n",
    "    return tot_steps, dts, tt, uu, G, no_ier_one, no_ier_five, no_ier_else"
   ]
  },
  {
   "cell_type": "markdown",
   "id": "1805f071",
   "metadata": {},
   "source": [
    "#### Time-splitting pseudospectral methods"
   ]
  },
  {
   "cell_type": "code",
   "execution_count": 8,
   "id": "ef3517f8",
   "metadata": {},
   "outputs": [],
   "source": [
    "# This is an implementation of an operator splitting \n",
    "# substeps\n",
    "def sol_nl_part(u, q, dt):\n",
    "    u_st = np.exp(1j*q*np.abs(u)**2*dt)*u\n",
    "    return u_st\n",
    "              \n",
    "def sol_l_part(u, xi, dt):\n",
    "    uhat = np.fft.fft(u)\n",
    "    u_st_hat = np.exp(-1j*xi**2*dt)*uhat\n",
    "    u_st = np.fft.ifft(u_st_hat)\n",
    "    return u_st\n",
    "\n",
    "def Op_Split_Exact_Solve(Mthdname,sol_nl_part,sol_l_part,q,xL,xR,N,t0,T,a,b,dt):\n",
    "    # spatial discretization\n",
    "    L = xR-xL; x = np.linspace(xL, xR, N+1)[:-1] # exclude the right boundary point\n",
    "    dx = x[1]-x[0]; xi = np.fft.fftfreq(N) * N * 2*np.pi / L\n",
    "    \n",
    "    tt = np.zeros(1); t = t0; tt[0] = t # time\n",
    "    u0 = np.zeros((2*N))\n",
    "    for i, xc in enumerate(x):\n",
    "        u0[i] = 1./np.cosh(xc)\n",
    "        \n",
    "    uu = np.zeros((1,np.size(u0))); uu[0,:] = u0.copy() # solution\n",
    "    u_comp = u0[:N]+ (1j) *u0[N:]; steps = 0\n",
    "    \n",
    "    while t < T and not np.isclose(t, T):\n",
    "        clear_output(wait=True)\n",
    "        if t + dt > T:\n",
    "            dt = T - t\n",
    "        u_st = u_comp.copy()  \n",
    "        for j in range(len(a)):\n",
    "            u_st = sol_nl_part(u_st,q,a[j]*dt)\n",
    "            u_st = sol_l_part(u_st,xi,b[j]*dt)\n",
    "            \n",
    "        u_comp = u_st.copy(); t+=dt\n",
    "            \n",
    "        unew = np.concatenate((u_comp.real,u_comp.imag)).astype('float64')\n",
    "        tt = np.append(tt, t); uu = np.append(uu, np.reshape(unew.copy(), (1,len(unew))), axis=0)  \n",
    "        steps += 1\n",
    "        print(\"SP-%s: Step number = %d (time = %1.2f)\"%(Mthdname,steps,tt[-1]))\n",
    "    return tt, uu"
   ]
  },
  {
   "cell_type": "code",
   "execution_count": 9,
   "id": "45d906a5",
   "metadata": {},
   "outputs": [],
   "source": [
    "# Initial profile\n",
    "t0 = 0; u0 = np.zeros((2*m))\n",
    "for i, xp in enumerate(x):\n",
    "    u0[2*i] = 1./np.cosh(xp)"
   ]
  },
  {
   "cell_type": "markdown",
   "id": "8ac053e1",
   "metadata": {},
   "source": [
    "## Compute solutions by the numerical methods"
   ]
  },
  {
   "cell_type": "code",
   "execution_count": 10,
   "id": "50eb0013",
   "metadata": {},
   "outputs": [],
   "source": [
    "# If a path doesn’t exist we create one\n",
    "eqn = 'NLS_q%d_Sol%d_Inv%d'%(q,sol,inv)\n",
    "import os\n",
    "path1 = './Data/%s'%(eqn)\n",
    "if not os.path.exists(path1):\n",
    "   os.makedirs(path1)"
   ]
  },
  {
   "cell_type": "markdown",
   "id": "37b0d8cb",
   "metadata": {},
   "source": [
    "#### Compute solution by ImEx with multiple relaxation and variable time steps"
   ]
  },
  {
   "cell_type": "code",
   "execution_count": 11,
   "id": "5203ef2a",
   "metadata": {},
   "outputs": [
    {
     "name": "stdout",
     "output_type": "stream",
     "text": [
      "ep_n=0.0207 \n",
      "\n",
      "Time step for the next iteration = 0.0207 \n",
      "\n",
      "FEM-ImEx4(MR)(EC): At step no = 436 (time = 5.00000), ier = 1 and γ1+γ2  = 0.000212 \n",
      "\n"
     ]
    }
   ],
   "source": [
    "MR_EC_data = {'Mthds_MR_EC': Mthds_MR_EC,\n",
    "        'Init: dt': DT,\n",
    "        'Domain':'[%d,%d]'%(xL,xR),\n",
    "        'm': m,\n",
    "        't0': t0,\n",
    "        'tf':'%1.1f'%(T),\n",
    "        'q':'%d'%(q)}\n",
    "MR_EC_df = pd.DataFrame(MR_EC_data)\n",
    "\n",
    "f_stiff = rhs_stiff; f_non_stiff = rhs_non_stiff; \n",
    "\n",
    "# ImEx with relaxation and variable time steps\n",
    "MR_EC_TS = []; MR_EC_dts = []; MR_EC_tt = []; MR_EC_uu = [];  \n",
    "for idx in range(len(Mthds_MR_EC)):\n",
    "    rkim, rkex, c, b, bhat = ImEx_schemes(Stage[idx],Order[idx],em_Or[idx],Sch_No[idx]);\n",
    "    dt = DT[idx];  alpha = 0.9; tol = 1e-4; em_or = em_Or[idx]; \n",
    "    tot_steps, dts, tt, uu, G, IF_1,IF_5,IF_else = MR_ImEx_Var_Steps_Sol(Mthds_MR_EC[idx], rkim, rkex, c, b, bhat, dt, f_stiff, f_non_stiff, T, u0, t0, inv, alpha, em_or, tol) \n",
    "    MR_EC_df.at[idx,'R: ier = 1'] = int(IF_1); MR_EC_df.at[idx,'R: ier = 5'] = int(IF_5); MR_EC_df.at[idx,'R: ier = else'] = int(IF_else)\n",
    "    MR_EC_TS.append(tot_steps); MR_EC_dts.append(dts); MR_EC_tt.append(tt); MR_EC_uu.append(uu)"
   ]
  },
  {
   "cell_type": "code",
   "execution_count": 12,
   "id": "6aa0cf04",
   "metadata": {},
   "outputs": [],
   "source": [
    "# Computing reference solution corresponding to methods with relaxation and step size control\n",
    "MR_EC_uu_ex = [];\n",
    "for idx in range(len(Mthds_MR_EC)):\n",
    "    MR_EC_t = MR_EC_tt[idx]; MR_EC_u_ex = []\n",
    "    for i in range(len(MR_EC_t)):\n",
    "        MR_EC_true_sol = NLS_True_Sol(MR_EC_t[i],x,q)\n",
    "        MR_EC_u_ex.append(MR_EC_true_sol)\n",
    "    MR_EC_uu_ex.append(MR_EC_u_ex)"
   ]
  },
  {
   "cell_type": "code",
   "execution_count": 13,
   "id": "d0fd6abf",
   "metadata": {},
   "outputs": [],
   "source": [
    "# Saving Data\n",
    "a_MR_EC_TS = np.empty(len(MR_EC_TS), dtype=object); a_MR_EC_TS[:] = MR_EC_TS\n",
    "a_MR_EC_dts = np.empty(len(MR_EC_dts), dtype=object); a_MR_EC_dts[:] = MR_EC_dts\n",
    "\n",
    "a_MR_EC_tt = np.empty(len(MR_EC_tt), dtype=object); a_MR_EC_tt[:] = MR_EC_tt\n",
    "a_MR_EC_uu = np.empty(len(MR_EC_uu), dtype=object); a_MR_EC_uu[:] = MR_EC_uu\n",
    "a_MR_EC_uu_ex = np.empty(len(MR_EC_uu_ex), dtype=object); a_MR_EC_uu_ex[:] = MR_EC_uu_ex\n",
    "\n",
    "from pathlib import Path  \n",
    "filepath = Path(\"./Data/%s/%s_m%d_T%1.1f_MR_EC_Mthd_Data.csv\"%(eqn,eqn,m1,T),index = False)    \n",
    "MR_EC_df.to_csv(filepath) \n",
    "# Numerical Solution by ImEx(MR)(EC) methods\n",
    "np.save(\"./Data/%s/%s_m%d_T%1.1f_MR_EC_Tot_Steps.npy\"%(eqn,eqn,m1,T), a_MR_EC_TS)\n",
    "np.save(\"./Data/%s/%s_m%d_T%1.1f_MR_EC_Var_Time_Steps.npy\"%(eqn,eqn,m1,T), a_MR_EC_dts)\n",
    "np.save(\"./Data/%s/%s_m%d_T%1.1f_MR_EC_Time.npy\"%(eqn,eqn,m1,T), a_MR_EC_tt)\n",
    "np.save(\"./Data/%s/%s_m%d_T%1.1f_MR_EC_NumSol.npy\"%(eqn,eqn,m1,T), a_MR_EC_uu)\n",
    "# Reference Solution corresponding to ImEx(MR)(EC) methods\n",
    "np.save(\"./Data/%s/%s_m%d_T%1.1f_MR_EC_TrueSol.npy\"%(eqn,eqn,m1,T), a_MR_EC_uu_ex)"
   ]
  },
  {
   "cell_type": "markdown",
   "id": "d31f5200",
   "metadata": {},
   "source": [
    "#### Compute solution by ImEx with multiple relaxation"
   ]
  },
  {
   "cell_type": "code",
   "execution_count": 14,
   "id": "77be9409",
   "metadata": {},
   "outputs": [
    {
     "name": "stdout",
     "output_type": "stream",
     "text": [
      "FEM-ImEx4(MR): At step no = 499 (time = 5.00000), ier = 1 and γ1+γ2  = 0.000145 \n",
      "\n"
     ]
    }
   ],
   "source": [
    "MR_data = {'Mthds_MR': Mthds_MR,\n",
    "        'MR: dt': DT,\n",
    "        'Domain':'[%d,%d]'%(xL,xR),\n",
    "        'm': m,\n",
    "        't0': t0,\n",
    "        'tf':'%1.1f'%(T),\n",
    "        'q':'%d'%(q)}\n",
    "MR_df = pd.DataFrame(MR_data)\n",
    "\n",
    "f_stiff = rhs_stiff; f_non_stiff = rhs_non_stiff; \n",
    "\n",
    "\n",
    "# ImEx with multiple relaxation\n",
    "MR_TS = []; MR_tt = []; MR_uu = [];  \n",
    "for idx in range(len(Mthds_MR)):\n",
    "    rkim, rkex, c, b, bhat = ImEx_schemes(Stage[idx],Order[idx],em_Or[idx],Sch_No[idx]);dt = DT[idx];  \n",
    "    tot_steps, tt, uu, G, IF_1,IF_5,IF_else = MR_ImEx_Sol(Mthds_MR[idx], rkim, rkex, c, b, bhat, dt, f_stiff, f_non_stiff, T, u0, t0, inv) \n",
    "    MR_df.at[idx,'R: ier = 1'] = int(IF_1); MR_df.at[idx,'R: ier = 5'] = int(IF_5); MR_df.at[idx,'R: ier = else'] = int(IF_else)\n",
    "    MR_TS.append(tot_steps); MR_tt.append(tt); MR_uu.append(uu)\n"
   ]
  },
  {
   "cell_type": "code",
   "execution_count": 15,
   "id": "a06ab52a",
   "metadata": {},
   "outputs": [],
   "source": [
    "# Saving Data\n",
    "a_MR_TS = np.empty(len(MR_TS), dtype=object); a_MR_TS[:] = MR_TS\n",
    "a_MR_tt = np.empty(len(MR_tt), dtype=object); a_MR_tt[:] = MR_tt\n",
    "a_MR_uu = np.empty(len(MR_uu), dtype=object); a_MR_uu[:] = MR_uu\n",
    "\n",
    "from pathlib import Path  \n",
    "filepath = Path(\"./Data/%s/%s_m%d_T%1.1f_MR_Mthd_Data.csv\"%(eqn,eqn,m1,T),index = False)    \n",
    "MR_df.to_csv(filepath) \n",
    "# Numerical Solution by ImEx(MR)(EC) methods\n",
    "np.save(\"./Data/%s/%s_m%d_T%1.1f_MR_Tot_Steps.npy\"%(eqn,eqn,m1,T), a_MR_TS)\n",
    "np.save(\"./Data/%s/%s_m%d_T%1.1f_MR_Time.npy\"%(eqn,eqn,m1,T), a_MR_tt)\n",
    "np.save(\"./Data/%s/%s_m%d_T%1.1f_MR_NumSol.npy\"%(eqn,eqn,m1,T), a_MR_uu)"
   ]
  },
  {
   "cell_type": "markdown",
   "id": "6fdd28c0",
   "metadata": {},
   "source": [
    "#### Compute solution by ImEx methods"
   ]
  },
  {
   "cell_type": "code",
   "execution_count": 16,
   "id": "5f946afc",
   "metadata": {},
   "outputs": [
    {
     "name": "stdout",
     "output_type": "stream",
     "text": [
      "Method=FEM-ImEx4: Step number = 500 (time = 5.00000)\n"
     ]
    }
   ],
   "source": [
    "B_data = {'Mthds_B': Mthds_B,\n",
    "        'B: dt': DT,\n",
    "        'Domain':'[%d,%d]'%(xL,xR),\n",
    "        'm': m,\n",
    "        't0': t0,\n",
    "        'tf':'%1.1f'%(T),\n",
    "        'q':'%d'%(q)}\n",
    "B_df = pd.DataFrame(B_data)\n",
    "\n",
    "f_stiff = rhs_stiff; f_non_stiff = rhs_non_stiff; \n",
    "\n",
    "# ImEx with multiple relaxation\n",
    "B_tt = []; B_uu = [];  \n",
    "for idx in range(len(Mthds_B)):\n",
    "    rkim, rkex, c, b, bhat = ImEx_schemes(Stage[idx],Order[idx],em_Or[idx],Sch_No[idx]);dt = DT[idx];  \n",
    "    tt, uu = ImEx_Sol(Mthds_B[idx],rkim, rkex, c, b, bhat, dt, f_stiff, f_non_stiff, T, u0, t0)\n",
    "    B_tt.append(tt); B_uu.append(uu)"
   ]
  },
  {
   "cell_type": "code",
   "execution_count": 17,
   "id": "5f83faac",
   "metadata": {},
   "outputs": [],
   "source": [
    "# Computing reference solution corresponding to ImEx methods\n",
    "B_uu_ex = [];\n",
    "for idx in range(len(Mthds_B)):\n",
    "    B_t = B_tt[idx]; B_u_ex = []\n",
    "    for i in range(len(B_t)):\n",
    "        B_true_sol = NLS_True_Sol(B_t[i],x,q)\n",
    "        B_u_ex.append(B_true_sol)\n",
    "    B_uu_ex.append(B_u_ex)"
   ]
  },
  {
   "cell_type": "code",
   "execution_count": 18,
   "id": "f03a4249",
   "metadata": {},
   "outputs": [],
   "source": [
    "# Saving Data\n",
    "a_B_tt = np.empty(len(B_tt), dtype=object); a_B_tt[:] = B_tt\n",
    "a_B_uu = np.empty(len(B_uu), dtype=object); a_B_uu[:] = B_uu\n",
    "a_B_uu_ex = np.empty(len(B_uu_ex), dtype=object); a_B_uu_ex[:] = B_uu_ex\n",
    "\n",
    "from pathlib import Path  \n",
    "filepath = Path(\"./Data/%s/%s_m%d_T%1.1f_B_Mthd_Data.csv\"%(eqn,eqn,m1,T),index = False)    \n",
    "B_df.to_csv(filepath) \n",
    "# Numerical Solution by ImEx methods\n",
    "np.save(\"./Data/%s/%s_m%d_T%1.1f_B_Time.npy\"%(eqn,eqn,m1,T), a_B_tt)\n",
    "np.save(\"./Data/%s/%s_m%d_T%1.1f_B_NumSol.npy\"%(eqn,eqn,m1,T), a_B_uu)\n",
    "# Reference Solution corresponding to ImEx(MR)(EC) methods\n",
    "np.save(\"./Data/%s/%s_m%d_T%1.1f_B_TrueSol.npy\"%(eqn,eqn,m1,T), a_B_uu_ex)"
   ]
  },
  {
   "cell_type": "markdown",
   "id": "e272c9d5",
   "metadata": {},
   "source": [
    "#### Compute solution by time splitting pseudospectral methods"
   ]
  },
  {
   "cell_type": "code",
   "execution_count": 19,
   "id": "d1bf1f4e",
   "metadata": {},
   "outputs": [
    {
     "name": "stdout",
     "output_type": "stream",
     "text": [
      "SP-AK4: Step number = 500 (time = 5.00)\n"
     ]
    }
   ],
   "source": [
    "SP_data = {'Mthds_SP': Mthds_SP,\n",
    "        'SP: dt': SP_DT,\n",
    "        'Domain':'[%d,%d]'%(xL,xR),\n",
    "        'm': m,\n",
    "        't0': t0,\n",
    "        'tf':'%1.1f'%(T),\n",
    "        'q':'%d'%(q)}\n",
    "SP_df = pd.DataFrame(SP_data)\n",
    "\n",
    "f_stiff = rhs_stiff; f_non_stiff = rhs_non_stiff; \n",
    "\n",
    "# Time splitting methods\n",
    "SP_tt = []; SP_uu = [];  \n",
    "for idx in range(len(Mthds_SP)):\n",
    "    OpSp_a, OpSp_b = Op_Sp_Coeff(SP_Stage[idx],SP_Order[idx],SP_Sch_No[idx]); dt = SP_DT[idx];  \n",
    "    tt, uu = Op_Split_Exact_Solve(Mthds_SP[idx],sol_nl_part,sol_l_part,q,xL,xR,N,t0,T,OpSp_a,OpSp_b,dt)\n",
    "    SP_tt.append(tt); SP_uu.append(uu)"
   ]
  },
  {
   "cell_type": "code",
   "execution_count": 20,
   "id": "7acdd1af",
   "metadata": {},
   "outputs": [],
   "source": [
    "# Saving Data\n",
    "a_SP_tt = np.empty(len(SP_tt), dtype=object); a_SP_tt[:] = SP_tt\n",
    "a_SP_uu = np.empty(len(SP_uu), dtype=object); a_SP_uu[:] = SP_uu\n",
    "\n",
    "from pathlib import Path  \n",
    "filepath = Path(\"./Data/%s/%s_m%d_T%1.1f_SP_Mthd_Data.csv\"%(eqn,eqn,m1,T),index = False)    \n",
    "SP_df.to_csv(filepath) \n",
    "# Numerical Solution by ImEx(MR)(EC) methods\n",
    "np.save(\"./Data/%s/%s_m%d_T%1.1f_SP_Time.npy\"%(eqn,eqn,m1,T), a_SP_tt)\n",
    "np.save(\"./Data/%s/%s_m%d_T%1.1f_SP_NumSol.npy\"%(eqn,eqn,m1,T), a_SP_uu)\n"
   ]
  },
  {
   "cell_type": "markdown",
   "id": "5f8cde82",
   "metadata": {},
   "source": [
    "## End"
   ]
  },
  {
   "cell_type": "code",
   "execution_count": null,
   "id": "06962c86",
   "metadata": {},
   "outputs": [],
   "source": []
  }
 ],
 "metadata": {
  "kernelspec": {
   "display_name": "Python 3 (ipykernel)",
   "language": "python",
   "name": "python3"
  },
  "language_info": {
   "codemirror_mode": {
    "name": "ipython",
    "version": 3
   },
   "file_extension": ".py",
   "mimetype": "text/x-python",
   "name": "python",
   "nbconvert_exporter": "python",
   "pygments_lexer": "ipython3",
   "version": "3.8.13"
  }
 },
 "nbformat": 4,
 "nbformat_minor": 5
}
